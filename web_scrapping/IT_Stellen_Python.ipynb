{
 "cells": [
  {
   "cell_type": "code",
   "execution_count": 10,
   "metadata": {
    "colab": {
     "base_uri": "https://localhost:8080/"
    },
    "id": "xWoSFwYTn2-s",
    "outputId": "3760fa79-9b6f-4de7-b70c-49db52d2fb04"
   },
   "outputs": [
    {
     "name": "stderr",
     "output_type": "stream",
     "text": [
      "'apt' is not recognized as an internal or external command,\n",
      "operable program or batch file.\n",
      "'cp' is not recognized as an internal or external command,\n",
      "operable program or batch file.\n"
     ]
    },
    {
     "name": "stdout",
     "output_type": "stream",
     "text": [
      "Requirement already satisfied: selenium in c:\\users\\sahayoga\\desktop\\sample_projects\\env\\lib\\site-packages (4.7.2)\n",
      "Requirement already satisfied: certifi>=2021.10.8 in c:\\users\\sahayoga\\desktop\\sample_projects\\env\\lib\\site-packages (from selenium) (2022.9.24)\n",
      "Requirement already satisfied: urllib3[socks]~=1.26 in c:\\users\\sahayoga\\desktop\\sample_projects\\env\\lib\\site-packages (from selenium) (1.26.14)\n",
      "Requirement already satisfied: trio~=0.17 in c:\\users\\sahayoga\\desktop\\sample_projects\\env\\lib\\site-packages (from selenium) (0.22.0)\n",
      "Requirement already satisfied: trio-websocket~=0.9 in c:\\users\\sahayoga\\desktop\\sample_projects\\env\\lib\\site-packages (from selenium) (0.9.2)\n",
      "Requirement already satisfied: PySocks!=1.5.7,<2.0,>=1.5.6; extra == \"socks\" in c:\\users\\sahayoga\\desktop\\sample_projects\\env\\lib\\site-packages (from urllib3[socks]~=1.26->selenium) (1.7.1)\n",
      "Requirement already satisfied: sniffio in c:\\users\\sahayoga\\desktop\\sample_projects\\env\\lib\\site-packages (from trio~=0.17->selenium) (1.3.0)\n",
      "Requirement already satisfied: sortedcontainers in c:\\users\\sahayoga\\desktop\\sample_projects\\env\\lib\\site-packages (from trio~=0.17->selenium) (2.2.2)\n",
      "Requirement already satisfied: outcome in c:\\users\\sahayoga\\desktop\\sample_projects\\env\\lib\\site-packages (from trio~=0.17->selenium) (1.2.0)\n",
      "Requirement already satisfied: cffi>=1.14; os_name == \"nt\" and implementation_name != \"pypy\" in c:\\users\\sahayoga\\desktop\\sample_projects\\env\\lib\\site-packages (from trio~=0.17->selenium) (1.14.3)\n",
      "Requirement already satisfied: async-generator>=1.9 in c:\\users\\sahayoga\\desktop\\sample_projects\\env\\lib\\site-packages (from trio~=0.17->selenium) (1.10)\n",
      "Requirement already satisfied: attrs>=19.2.0 in c:\\users\\sahayoga\\desktop\\sample_projects\\env\\lib\\site-packages (from trio~=0.17->selenium) (20.3.0)\n",
      "Requirement already satisfied: exceptiongroup>=1.0.0rc9; python_version < \"3.11\" in c:\\users\\sahayoga\\desktop\\sample_projects\\env\\lib\\site-packages (from trio~=0.17->selenium) (1.0.4)\n",
      "Requirement already satisfied: idna in c:\\users\\sahayoga\\desktop\\sample_projects\\env\\lib\\site-packages (from trio~=0.17->selenium) (2.10)\n",
      "Requirement already satisfied: wsproto>=0.14 in c:\\users\\sahayoga\\desktop\\sample_projects\\env\\lib\\site-packages (from trio-websocket~=0.9->selenium) (1.2.0)\n",
      "Requirement already satisfied: pycparser in c:\\users\\sahayoga\\desktop\\sample_projects\\env\\lib\\site-packages (from cffi>=1.14; os_name == \"nt\" and implementation_name != \"pypy\"->trio~=0.17->selenium) (2.20)\n",
      "Requirement already satisfied: h11<1,>=0.9.0 in c:\\users\\sahayoga\\desktop\\sample_projects\\env\\lib\\site-packages (from wsproto>=0.14->trio-websocket~=0.9->selenium) (0.14.0)\n"
     ]
    }
   ],
   "source": [
    "!apt install chromium-chromedriver\n",
    "!cp /usr/lib/chromium-browser/chromedriver /usr/bin\n",
    "!pip install selenium"
   ]
  },
  {
   "cell_type": "code",
   "execution_count": 11,
   "metadata": {
    "id": "1lUqPvsZm0v3"
   },
   "outputs": [],
   "source": [
    "from selenium import webdriver\n",
    "from selenium.webdriver.common.by import By\n",
    "\n",
    "options = webdriver.ChromeOptions()\n",
    "options.add_argument(\"-headless\")\n",
    "options.add_argument(\"-no-sandbox\")\n",
    "options.add_argument(\"-disable-dev-shm-usage\")\n",
    "\n",
    "driver = webdriver.Chrome(\"chromedriver\", options=options)\n",
    "\n",
    "job = \"python\"\n",
    "url =\"https://www.itstellen.at/jobs?keywords=\" + job + \"&locations=&page=\"\n",
    "\n",
    "driver.get(url)"
   ]
  },
  {
   "cell_type": "code",
   "execution_count": 12,
   "metadata": {},
   "outputs": [],
   "source": [
    "from selenium.webdriver.common.keys import Keys\n",
    "import time\n",
    "\n",
    "urls = []\n",
    "page = 1\n",
    "tries = 0\n"
   ]
  },
  {
   "cell_type": "code",
   "execution_count": 13,
   "metadata": {},
   "outputs": [
    {
     "name": "stdout",
     "output_type": "stream",
     "text": [
      "Page 1: 15\n",
      "Page 2: 15\n",
      "Page 3: 15\n",
      "Page 4: 15\n",
      "Page 5: 15\n",
      "Page 6: 15\n",
      "Page 7: 15\n",
      "Page 8: 15\n"
     ]
    }
   ],
   "source": [
    "while True:\n",
    "  driver.get(url + str(page))\n",
    "  links = driver.find_elements(By.CSS_SELECTOR, \".jobInformation h3 a\")\n",
    "    \n",
    "  if len(links) < 1: \n",
    "    if tries > 2:\n",
    "      break\n",
    "    else:\n",
    "      time.sleep(20)\n",
    "      tries += 1\n",
    "      continue\n",
    "\n",
    "  print(\"Page \" + str(page) + \": \" + str(len(links)))    \n",
    "  for link in links:\n",
    "      urls.append(link.get_attribute(\"href\"))\n",
    "\n",
    "  tries = 0\n",
    "  page += 1\n",
    "  time.sleep(10)"
   ]
  },
  {
   "cell_type": "code",
   "execution_count": 6,
   "metadata": {},
   "outputs": [],
   "source": [
    "\n",
    "from bs4 import BeautifulSoup\n",
    "import re\n",
    "\n",
    "def clean(html):\n",
    "  soup = BeautifulSoup(html, \"lxml\")\n",
    "  body = soup.find(\"body\").text.strip()\n",
    "  return re.sub(r'[\\ \\n]{2,}', ' ', body)"
   ]
  },
  {
   "cell_type": "code",
   "execution_count": null,
   "metadata": {},
   "outputs": [
    {
     "name": "stdout",
     "output_type": "stream",
     "text": [
      "Link: 1\n",
      "Link: 2\n",
      "Link: 3\n",
      "Link: 4\n",
      "Link: 5\n",
      "Link: 6\n",
      "Link: 7\n",
      "Link: 8\n",
      "Link: 9\n",
      "Link: 10\n",
      "Link: 11\n",
      "Link: 12\n",
      "Link: 13\n",
      "Link: 14\n",
      "Link: 15\n",
      "Link: 16\n",
      "Link: 17\n",
      "Link: 18\n",
      "Link: 19\n",
      "Link: 20\n",
      "Link: 21\n",
      "Link: 22\n",
      "Link: 23\n",
      "Link: 24\n",
      "Link: 25\n",
      "Link: 26\n",
      "Link: 27\n",
      "Link: 28\n",
      "Link: 29\n",
      "Link: 30\n",
      "Link: 31\n",
      "Link: 32\n",
      "Link: 33\n",
      "Link: 34\n",
      "Link: 35\n",
      "Link: 36\n",
      "Link: 37\n",
      "Link: 38\n",
      "Link: 39\n"
     ]
    }
   ],
   "source": [
    "data = []\n",
    "count = 1\n",
    "\n",
    "while count < len(urls):\n",
    "  url = urls[count]\n",
    "  print(\"Link: \" + str(count))\n",
    "\n",
    "  driver.get(url)\n",
    "  title = driver.title.replace(\" – itstellen.at\", \"\")\n",
    "\n",
    "  try:\n",
    "    content = driver.find_element(By.CLASS_NAME, \"jobContent\").get_attribute('innerHTML')\n",
    "  except Exception:  \n",
    "    print('Pause...')\n",
    "    time.sleep(30)\n",
    "    continue\n",
    "    \n",
    "  data.append({\n",
    "      'title': title,\n",
    "      'text': clean(content),\n",
    "      'url': url\n",
    "  })\n",
    "\n",
    "  count += 1\n",
    "  time.sleep(5)\n"
   ]
  },
  {
   "cell_type": "code",
   "execution_count": 8,
   "metadata": {},
   "outputs": [],
   "source": [
    "import pandas as pd\n",
    "\n",
    "df = pd.DataFrame(data)\n",
    "df.to_csv('IT-Stellen_python.csv')"
   ]
  },
  {
   "cell_type": "code",
   "execution_count": null,
   "metadata": {},
   "outputs": [],
   "source": []
  }
 ],
 "metadata": {
  "colab": {
   "provenance": []
  },
  "kernelspec": {
   "display_name": "Python 3",
   "language": "python",
   "name": "python3"
  },
  "language_info": {
   "codemirror_mode": {
    "name": "ipython",
    "version": 3
   },
   "file_extension": ".py",
   "mimetype": "text/x-python",
   "name": "python",
   "nbconvert_exporter": "python",
   "pygments_lexer": "ipython3",
   "version": "3.8.5"
  }
 },
 "nbformat": 4,
 "nbformat_minor": 1
}
